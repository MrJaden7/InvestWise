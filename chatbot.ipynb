{
 "cells": [
  {
   "cell_type": "markdown",
   "metadata": {},
   "source": [
    "Financial statement analyzer Chatbot with langchain"
   ]
  },
  {
   "cell_type": "code",
   "execution_count": 2,
   "metadata": {},
   "outputs": [
    {
     "data": {
      "text/plain": [
       "True"
      ]
     },
     "execution_count": 2,
     "metadata": {},
     "output_type": "execute_result"
    }
   ],
   "source": [
    "from dotenv import find_dotenv, load_dotenv\n",
    "load_dotenv(find_dotenv(), override=True)"
   ]
  },
  {
   "cell_type": "code",
   "execution_count": 3,
   "metadata": {},
   "outputs": [
    {
     "data": {
      "text/plain": [
       "\"\\nfrom langchain_google_genai import ChatGoogleGenerativeAI\\nfrom langchain.schema import SystemMessage\\nfrom langchain.chains import LLMChain\\nfrom langchain.prompts import ChatPromptTemplate, HumanMessagePromptTemplate\\n\\nllm = ChatGoogleGenerativeAI(model='gemini-1.5-flash', temperature=1)\\n\\nprompt = ChatPromptTemplate(\\n    input_variables=['content'],\\n    messages=[\\n        SystemMessage(content='You are a chatbot having a conversation with a human '),\\n        HumanMessagePromptTemplate.from_template('{content}')\\n    ]\\n)\\n\\nchain=LLMChain(\\n    llm=llm,\\n    prompt=prompt,\\n    verbose=False\\n)\\n\\nwhile True:\\n    content = input('Your Prompt: ')\\n    if content in ['quit', 'exit', 'bye']:\\n        print('Goodbye!')\\n        break\\n\\n    response =chain.run({'content':content})\\n    print(response)\\n    print('-' * 50)\\n   \""
      ]
     },
     "execution_count": 3,
     "metadata": {},
     "output_type": "execute_result"
    }
   ],
   "source": [
    "\"\"\"\n",
    "from langchain_google_genai import ChatGoogleGenerativeAI\n",
    "from langchain.schema import SystemMessage\n",
    "from langchain.chains import LLMChain\n",
    "from langchain.prompts import ChatPromptTemplate, HumanMessagePromptTemplate\n",
    "\n",
    "llm = ChatGoogleGenerativeAI(model='gemini-1.5-flash', temperature=1)\n",
    "\n",
    "prompt = ChatPromptTemplate(\n",
    "    input_variables=['content'],\n",
    "    messages=[\n",
    "        SystemMessage(content='You are a chatbot having a conversation with a human '),\n",
    "        HumanMessagePromptTemplate.from_template('{content}')\n",
    "    ]\n",
    ")\n",
    "\n",
    "chain=LLMChain(\n",
    "    llm=llm,\n",
    "    prompt=prompt,\n",
    "    verbose=False\n",
    ")\n",
    "\n",
    "while True:\n",
    "    content = input('Your Prompt: ')\n",
    "    if content in ['quit', 'exit', 'bye']:\n",
    "        print('Goodbye!')\n",
    "        break\n",
    "\n",
    "    response =chain.run({'content':content})\n",
    "    print(response)\n",
    "    print('-' * 50)\n",
    "   \"\"\"\n"
   ]
  },
  {
   "cell_type": "code",
   "execution_count": null,
   "metadata": {},
   "outputs": [
    {
     "name": "stdout",
     "output_type": "stream",
     "text": [
      "Attempting to read file: C:\\Users\\darkl\\Documents\\Desktop\\Blaise\\Major Project [Financial AI]\\TCS_processed_cleaned.pdf\n",
      "PDF content loaded successfully.\n",
      "Ask questions about the document or type 'quit', 'exit', or 'bye' to end the session.\n",
      "--------------------------------------------------\n",
      "what are the net profit values?\n",
      "\n",
      "Here are the net profit values from the provided data:\n",
      "\n",
      "**Sheet: profit_loss**\n",
      "\n",
      "* Mar-15: 19852.18\n",
      "* Mar-16: 24270.0\n",
      "* Mar-17: 26289.0\n",
      "* Mar-18: 25826.0\n",
      "* Mar-19: 31472.0\n",
      "* Mar-20: 32340.0\n",
      "* Mar-21: 32430.0\n",
      "* Mar-22: 38327.0\n",
      "* Mar-23: 42147.0\n",
      "* Mar-24: 45908.0\n",
      "\n",
      "**Sheet: Quarters**\n",
      "\n",
      "* Mar-22: 9926\n",
      "* Jun-22: 9478\n",
      "* Sep-22: 10431\n",
      "* Dec-22: 10846\n",
      "* Mar-23: 11392\n",
      "* Jun-23: 11074\n",
      "* Sep-23: 11342\n",
      "* Dec-23: 11058\n",
      "* Mar-24: 12434\n",
      "* Jun-24: 12040\n",
      "\n",
      "Please note that there are two tables with net profit information.  The first table shows yearly net profits, and the second shows quarterly net profits.\n",
      "\n",
      "--------------------------------------------------\n",
      "Goodbye!\n"
     ]
    }
   ],
   "source": [
    "import os\n",
    "import PyPDF2\n",
    "from langchain_google_genai import ChatGoogleGenerativeAI\n",
    "from langchain.schema import SystemMessage\n",
    "from langchain.chains import LLMChain\n",
    "from langchain.prompts import ChatPromptTemplate, HumanMessagePromptTemplate\n",
    "\n",
    "\n",
    "def extract_text_from_pdf(pdf_path):\n",
    "    try:\n",
    "        if not os.path.isfile(pdf_path):\n",
    "            raise FileNotFoundError(f\"The file does not exist: {pdf_path}\")\n",
    "        \n",
    "        print(f\"Attempting to read file: {pdf_path}\")\n",
    "        with open(pdf_path, 'rb') as file:\n",
    "            reader = PyPDF2.PdfReader(file)\n",
    "            text = \"\"\n",
    "            for page in reader.pages:\n",
    "                text += page.extract_text()\n",
    "            return text\n",
    "    except FileNotFoundError as fnf_error:\n",
    "        print(fnf_error)\n",
    "    except PermissionError:\n",
    "        print(\"Permission denied for the specified file.\")\n",
    "        print(\"Please ensure you have access to the file and it is not open in another program.\")\n",
    "    except Exception as e:\n",
    "        print(f\"An unexpected error occurred: {e}\")\n",
    "    return \"\"\n",
    "\n",
    "\n",
    "llm = ChatGoogleGenerativeAI(model='gemini-1.5-flash', temperature=1)\n",
    "\n",
    "\n",
    "prompt = ChatPromptTemplate(\n",
    "    input_variables=['pdf_content', 'user_query'],\n",
    "    messages=[\n",
    "        SystemMessage(content='You are a chatbot that answers questions based on a provided financial document.'),\n",
    "        HumanMessagePromptTemplate.from_template('Document content: {pdf_content}\\n\\nQuestion: {user_query}')\n",
    "    ]\n",
    ")\n",
    "\n",
    "\n",
    "chain = LLMChain(\n",
    "    llm=llm,\n",
    "    prompt=prompt,\n",
    "    verbose=False\n",
    ")\n",
    "\n",
    "\n",
    "pdf_path = input(\"Enter the path to the PDF file: \")\n",
    "pdf_content = extract_text_from_pdf(pdf_path)\n",
    "\n",
    "if pdf_content.strip():  \n",
    "    print(\"PDF content loaded successfully.\")\n",
    "    print(\"Ask questions about the document or type 'quit', 'exit', or 'bye' to end the session.\")\n",
    "    print('-' * 50)\n",
    "\n",
    "    # Interactive loop for question answering\n",
    "    while True:\n",
    "        user_query = input('Your Question: ')\n",
    "        if user_query in ['quit', 'exit', 'bye']:\n",
    "            print('Goodbye!')\n",
    "            break\n",
    "\n",
    "        response = chain.run({'pdf_content': pdf_content, 'user_query': user_query})\n",
    "        print(user_query)\n",
    "        print()\n",
    "        print(response)\n",
    "        print('-' * 50)\n",
    "else:\n",
    "    print(\"Failed to load PDF content.\")\n"
   ]
  },
  {
   "cell_type": "code",
   "execution_count": null,
   "metadata": {},
   "outputs": [],
   "source": []
  }
 ],
 "metadata": {
  "language_info": {
   "name": "python"
  }
 },
 "nbformat": 4,
 "nbformat_minor": 2
}
